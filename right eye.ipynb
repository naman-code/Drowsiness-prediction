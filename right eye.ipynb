{
 "cells": [
  {
   "cell_type": "code",
   "execution_count": 14,
   "id": "333e3787",
   "metadata": {},
   "outputs": [],
   "source": [
    "import pandas as pd\n",
    "from sklearn.preprocessing import StandardScaler\n",
    "import seaborn as sns\n",
    "from imblearn.over_sampling import RandomOverSampler as ros \n",
    "from collections import Counter"
   ]
  },
  {
   "cell_type": "code",
   "execution_count": 2,
   "id": "88f66b02",
   "metadata": {},
   "outputs": [],
   "source": [
    "data = pd.read_excel('right.xlsx')"
   ]
  },
  {
   "cell_type": "code",
   "execution_count": 3,
   "id": "1d6c3756",
   "metadata": {},
   "outputs": [
    {
     "data": {
      "text/html": [
       "<div>\n",
       "<style scoped>\n",
       "    .dataframe tbody tr th:only-of-type {\n",
       "        vertical-align: middle;\n",
       "    }\n",
       "\n",
       "    .dataframe tbody tr th {\n",
       "        vertical-align: top;\n",
       "    }\n",
       "\n",
       "    .dataframe thead th {\n",
       "        text-align: right;\n",
       "    }\n",
       "</style>\n",
       "<table border=\"1\" class=\"dataframe\">\n",
       "  <thead>\n",
       "    <tr style=\"text-align: right;\">\n",
       "      <th></th>\n",
       "      <th>19.105261</th>\n",
       "      <th>34.058773</th>\n",
       "      <th>2.000000</th>\n",
       "      <th>0.280475</th>\n",
       "    </tr>\n",
       "  </thead>\n",
       "  <tbody>\n",
       "    <tr>\n",
       "      <th>0</th>\n",
       "      <td>19.198039</td>\n",
       "      <td>34.132096</td>\n",
       "      <td>2</td>\n",
       "      <td>0.281231</td>\n",
       "    </tr>\n",
       "    <tr>\n",
       "      <th>1</th>\n",
       "      <td>20.049876</td>\n",
       "      <td>35.057096</td>\n",
       "      <td>2</td>\n",
       "      <td>0.285960</td>\n",
       "    </tr>\n",
       "    <tr>\n",
       "      <th>2</th>\n",
       "      <td>19.198039</td>\n",
       "      <td>35.057096</td>\n",
       "      <td>2</td>\n",
       "      <td>0.273811</td>\n",
       "    </tr>\n",
       "    <tr>\n",
       "      <th>3</th>\n",
       "      <td>19.253424</td>\n",
       "      <td>34.058773</td>\n",
       "      <td>2</td>\n",
       "      <td>0.282650</td>\n",
       "    </tr>\n",
       "    <tr>\n",
       "      <th>4</th>\n",
       "      <td>19.105261</td>\n",
       "      <td>34.058773</td>\n",
       "      <td>2</td>\n",
       "      <td>0.280475</td>\n",
       "    </tr>\n",
       "    <tr>\n",
       "      <th>...</th>\n",
       "      <td>...</td>\n",
       "      <td>...</td>\n",
       "      <td>...</td>\n",
       "      <td>...</td>\n",
       "    </tr>\n",
       "    <tr>\n",
       "      <th>12976</th>\n",
       "      <td>12.407318</td>\n",
       "      <td>17.117243</td>\n",
       "      <td>2</td>\n",
       "      <td>0.362422</td>\n",
       "    </tr>\n",
       "    <tr>\n",
       "      <th>12977</th>\n",
       "      <td>12.082763</td>\n",
       "      <td>18.248288</td>\n",
       "      <td>2</td>\n",
       "      <td>0.331066</td>\n",
       "    </tr>\n",
       "    <tr>\n",
       "      <th>12978</th>\n",
       "      <td>9.123106</td>\n",
       "      <td>17.117243</td>\n",
       "      <td>2</td>\n",
       "      <td>0.266489</td>\n",
       "    </tr>\n",
       "    <tr>\n",
       "      <th>12979</th>\n",
       "      <td>14.142136</td>\n",
       "      <td>16.278821</td>\n",
       "      <td>2</td>\n",
       "      <td>0.434372</td>\n",
       "    </tr>\n",
       "    <tr>\n",
       "      <th>12980</th>\n",
       "      <td>8.000000</td>\n",
       "      <td>16.031220</td>\n",
       "      <td>2</td>\n",
       "      <td>0.249513</td>\n",
       "    </tr>\n",
       "  </tbody>\n",
       "</table>\n",
       "<p>12981 rows × 4 columns</p>\n",
       "</div>"
      ],
      "text/plain": [
       "       19.105261  34.058773  2.000000   0.280475 \n",
       "0      19.198039  34.132096          2   0.281231\n",
       "1      20.049876  35.057096          2   0.285960\n",
       "2      19.198039  35.057096          2   0.273811\n",
       "3      19.253424  34.058773          2   0.282650\n",
       "4      19.105261  34.058773          2   0.280475\n",
       "...          ...        ...        ...        ...\n",
       "12976  12.407318  17.117243          2   0.362422\n",
       "12977  12.082763  18.248288          2   0.331066\n",
       "12978   9.123106  17.117243          2   0.266489\n",
       "12979  14.142136  16.278821          2   0.434372\n",
       "12980   8.000000  16.031220          2   0.249513\n",
       "\n",
       "[12981 rows x 4 columns]"
      ]
     },
     "execution_count": 3,
     "metadata": {},
     "output_type": "execute_result"
    }
   ],
   "source": [
    "data"
   ]
  },
  {
   "cell_type": "code",
   "execution_count": 4,
   "id": "7b2cf972",
   "metadata": {},
   "outputs": [],
   "source": [
    "data.columns = [\"Dist1\", \"Dist2\" , \"op\",\"Dist3\"]"
   ]
  },
  {
   "cell_type": "code",
   "execution_count": 5,
   "id": "b8369a2a",
   "metadata": {},
   "outputs": [
    {
     "data": {
      "text/html": [
       "<div>\n",
       "<style scoped>\n",
       "    .dataframe tbody tr th:only-of-type {\n",
       "        vertical-align: middle;\n",
       "    }\n",
       "\n",
       "    .dataframe tbody tr th {\n",
       "        vertical-align: top;\n",
       "    }\n",
       "\n",
       "    .dataframe thead th {\n",
       "        text-align: right;\n",
       "    }\n",
       "</style>\n",
       "<table border=\"1\" class=\"dataframe\">\n",
       "  <thead>\n",
       "    <tr style=\"text-align: right;\">\n",
       "      <th></th>\n",
       "      <th>Dist1</th>\n",
       "      <th>Dist2</th>\n",
       "      <th>op</th>\n",
       "      <th>Dist3</th>\n",
       "    </tr>\n",
       "  </thead>\n",
       "  <tbody>\n",
       "    <tr>\n",
       "      <th>0</th>\n",
       "      <td>19.198039</td>\n",
       "      <td>34.132096</td>\n",
       "      <td>2</td>\n",
       "      <td>0.281231</td>\n",
       "    </tr>\n",
       "    <tr>\n",
       "      <th>1</th>\n",
       "      <td>20.049876</td>\n",
       "      <td>35.057096</td>\n",
       "      <td>2</td>\n",
       "      <td>0.285960</td>\n",
       "    </tr>\n",
       "    <tr>\n",
       "      <th>2</th>\n",
       "      <td>19.198039</td>\n",
       "      <td>35.057096</td>\n",
       "      <td>2</td>\n",
       "      <td>0.273811</td>\n",
       "    </tr>\n",
       "    <tr>\n",
       "      <th>3</th>\n",
       "      <td>19.253424</td>\n",
       "      <td>34.058773</td>\n",
       "      <td>2</td>\n",
       "      <td>0.282650</td>\n",
       "    </tr>\n",
       "    <tr>\n",
       "      <th>4</th>\n",
       "      <td>19.105261</td>\n",
       "      <td>34.058773</td>\n",
       "      <td>2</td>\n",
       "      <td>0.280475</td>\n",
       "    </tr>\n",
       "    <tr>\n",
       "      <th>...</th>\n",
       "      <td>...</td>\n",
       "      <td>...</td>\n",
       "      <td>...</td>\n",
       "      <td>...</td>\n",
       "    </tr>\n",
       "    <tr>\n",
       "      <th>12976</th>\n",
       "      <td>12.407318</td>\n",
       "      <td>17.117243</td>\n",
       "      <td>2</td>\n",
       "      <td>0.362422</td>\n",
       "    </tr>\n",
       "    <tr>\n",
       "      <th>12977</th>\n",
       "      <td>12.082763</td>\n",
       "      <td>18.248288</td>\n",
       "      <td>2</td>\n",
       "      <td>0.331066</td>\n",
       "    </tr>\n",
       "    <tr>\n",
       "      <th>12978</th>\n",
       "      <td>9.123106</td>\n",
       "      <td>17.117243</td>\n",
       "      <td>2</td>\n",
       "      <td>0.266489</td>\n",
       "    </tr>\n",
       "    <tr>\n",
       "      <th>12979</th>\n",
       "      <td>14.142136</td>\n",
       "      <td>16.278821</td>\n",
       "      <td>2</td>\n",
       "      <td>0.434372</td>\n",
       "    </tr>\n",
       "    <tr>\n",
       "      <th>12980</th>\n",
       "      <td>8.000000</td>\n",
       "      <td>16.031220</td>\n",
       "      <td>2</td>\n",
       "      <td>0.249513</td>\n",
       "    </tr>\n",
       "  </tbody>\n",
       "</table>\n",
       "<p>12981 rows × 4 columns</p>\n",
       "</div>"
      ],
      "text/plain": [
       "           Dist1      Dist2  op     Dist3\n",
       "0      19.198039  34.132096   2  0.281231\n",
       "1      20.049876  35.057096   2  0.285960\n",
       "2      19.198039  35.057096   2  0.273811\n",
       "3      19.253424  34.058773   2  0.282650\n",
       "4      19.105261  34.058773   2  0.280475\n",
       "...          ...        ...  ..       ...\n",
       "12976  12.407318  17.117243   2  0.362422\n",
       "12977  12.082763  18.248288   2  0.331066\n",
       "12978   9.123106  17.117243   2  0.266489\n",
       "12979  14.142136  16.278821   2  0.434372\n",
       "12980   8.000000  16.031220   2  0.249513\n",
       "\n",
       "[12981 rows x 4 columns]"
      ]
     },
     "execution_count": 5,
     "metadata": {},
     "output_type": "execute_result"
    }
   ],
   "source": [
    "data"
   ]
  },
  {
   "cell_type": "code",
   "execution_count": 6,
   "id": "ab6ffeeb",
   "metadata": {},
   "outputs": [
    {
     "data": {
      "text/plain": [
       "Dist1    0\n",
       "Dist2    0\n",
       "op       0\n",
       "Dist3    0\n",
       "dtype: int64"
      ]
     },
     "execution_count": 6,
     "metadata": {},
     "output_type": "execute_result"
    }
   ],
   "source": [
    "data.isnull().sum()"
   ]
  },
  {
   "cell_type": "code",
   "execution_count": 7,
   "id": "6390db7a",
   "metadata": {},
   "outputs": [
    {
     "data": {
      "text/plain": [
       "<AxesSubplot:>"
      ]
     },
     "execution_count": 7,
     "metadata": {},
     "output_type": "execute_result"
    },
    {
     "data": {
      "image/png": "[encoded data removed]",
      "text/plain": [
       "<Figure size 432x288 with 2 Axes>"
      ]
     },
     "metadata": {
      "needs_background": "light"
     },
     "output_type": "display_data"
    }
   ],
   "source": [
    "sns.heatmap(data.corr(), annot = True)"
   ]
  },
  {
   "cell_type": "code",
   "execution_count": 8,
   "id": "76df6ba3",
   "metadata": {},
   "outputs": [
    {
     "data": {
      "text/plain": [
       "2    11604\n",
       "0     1215\n",
       "1      162\n",
       "Name: op, dtype: int64"
      ]
     },
     "execution_count": 8,
     "metadata": {},
     "output_type": "execute_result"
    }
   ],
   "source": [
    "data[\"op\"].value_counts()"
   ]
  },
  {
   "cell_type": "code",
   "execution_count": 10,
   "id": "698e4852",
   "metadata": {},
   "outputs": [
    {
     "name": "stdout",
     "output_type": "stream",
     "text": [
      "<bound method NDFrame.head of            Dist1      Dist2     Data3\n",
      "0      19.198039  34.132096  0.281231\n",
      "1      20.049876  35.057096  0.285960\n",
      "2      19.198039  35.057096  0.273811\n",
      "3      19.253424  34.058773  0.282650\n",
      "4      19.105261  34.058773  0.280475\n",
      "...          ...        ...       ...\n",
      "12976  12.407318  17.117243  0.362422\n",
      "12977  12.082763  18.248288  0.331066\n",
      "12978   9.123106  17.117243  0.266489\n",
      "12979  14.142136  16.278821  0.434372\n",
      "12980   8.000000  16.031220  0.249513\n",
      "\n",
      "[12981 rows x 3 columns]>\n"
     ]
    }
   ],
   "source": [
    "X = data.iloc[:,0:2] \n",
    "X[\"Data3\"] = data.iloc[:,3]\n",
    "print(X.head)"
   ]
  },
  {
   "cell_type": "code",
   "execution_count": 12,
   "id": "9d150881",
   "metadata": {},
   "outputs": [
    {
     "data": {
      "text/plain": [
       "0        2\n",
       "1        2\n",
       "2        2\n",
       "3        2\n",
       "4        2\n",
       "        ..\n",
       "12976    2\n",
       "12977    2\n",
       "12978    2\n",
       "12979    2\n",
       "12980    2\n",
       "Name: op, Length: 12981, dtype: int64"
      ]
     },
     "execution_count": 12,
     "metadata": {},
     "output_type": "execute_result"
    }
   ],
   "source": [
    "y = data.iloc[:,2]\n",
    "y"
   ]
  },
  {
   "cell_type": "code",
   "execution_count": 16,
   "id": "0f100d09",
   "metadata": {},
   "outputs": [],
   "source": [
    "ros = ros(random_state=42)\n",
    "X_res, y_res = ros.fit_resample(X, y)"
   ]
  },
  {
   "cell_type": "code",
   "execution_count": 17,
   "id": "13489834",
   "metadata": {},
   "outputs": [
    {
     "name": "stdout",
     "output_type": "stream",
     "text": [
      "Counter({2: 11604, 0: 1215, 1: 162})\n",
      "Counter({2: 11604, 0: 11604, 1: 11604})\n"
     ]
    }
   ],
   "source": [
    "print(Counter(data[\"op\"]))\n",
    "print(Counter(y_res))"
   ]
  },
  {
   "cell_type": "markdown",
   "id": "1b6d0776",
   "metadata": {},
   "source": [
    "# converting data back for model training"
   ]
  },
  {
   "cell_type": "code",
   "execution_count": 18,
   "id": "0feac05b",
   "metadata": {},
   "outputs": [],
   "source": [
    "dx = pd.DataFrame(X_res)\n",
    "dy = pd.Series(y_res)"
   ]
  },
  {
   "cell_type": "code",
   "execution_count": 19,
   "id": "1303e4c0",
   "metadata": {},
   "outputs": [
    {
     "data": {
      "text/html": [
       "<div>\n",
       "<style scoped>\n",
       "    .dataframe tbody tr th:only-of-type {\n",
       "        vertical-align: middle;\n",
       "    }\n",
       "\n",
       "    .dataframe tbody tr th {\n",
       "        vertical-align: top;\n",
       "    }\n",
       "\n",
       "    .dataframe thead th {\n",
       "        text-align: right;\n",
       "    }\n",
       "</style>\n",
       "<table border=\"1\" class=\"dataframe\">\n",
       "  <thead>\n",
       "    <tr style=\"text-align: right;\">\n",
       "      <th></th>\n",
       "      <th>Dist1</th>\n",
       "      <th>Dist2</th>\n",
       "      <th>Data3</th>\n",
       "    </tr>\n",
       "  </thead>\n",
       "  <tbody>\n",
       "    <tr>\n",
       "      <th>0</th>\n",
       "      <td>19.198039</td>\n",
       "      <td>34.132096</td>\n",
       "      <td>0.281231</td>\n",
       "    </tr>\n",
       "    <tr>\n",
       "      <th>1</th>\n",
       "      <td>20.049876</td>\n",
       "      <td>35.057096</td>\n",
       "      <td>0.285960</td>\n",
       "    </tr>\n",
       "    <tr>\n",
       "      <th>2</th>\n",
       "      <td>19.198039</td>\n",
       "      <td>35.057096</td>\n",
       "      <td>0.273811</td>\n",
       "    </tr>\n",
       "    <tr>\n",
       "      <th>3</th>\n",
       "      <td>19.253424</td>\n",
       "      <td>34.058773</td>\n",
       "      <td>0.282650</td>\n",
       "    </tr>\n",
       "    <tr>\n",
       "      <th>4</th>\n",
       "      <td>19.105261</td>\n",
       "      <td>34.058773</td>\n",
       "      <td>0.280475</td>\n",
       "    </tr>\n",
       "    <tr>\n",
       "      <th>...</th>\n",
       "      <td>...</td>\n",
       "      <td>...</td>\n",
       "      <td>...</td>\n",
       "    </tr>\n",
       "    <tr>\n",
       "      <th>34807</th>\n",
       "      <td>43.117739</td>\n",
       "      <td>94.339811</td>\n",
       "      <td>0.228524</td>\n",
       "    </tr>\n",
       "    <tr>\n",
       "      <th>34808</th>\n",
       "      <td>8.000000</td>\n",
       "      <td>19.026298</td>\n",
       "      <td>0.210235</td>\n",
       "    </tr>\n",
       "    <tr>\n",
       "      <th>34809</th>\n",
       "      <td>24.534842</td>\n",
       "      <td>65.122961</td>\n",
       "      <td>0.188373</td>\n",
       "    </tr>\n",
       "    <tr>\n",
       "      <th>34810</th>\n",
       "      <td>6.324555</td>\n",
       "      <td>16.278821</td>\n",
       "      <td>0.194257</td>\n",
       "    </tr>\n",
       "    <tr>\n",
       "      <th>34811</th>\n",
       "      <td>8.246211</td>\n",
       "      <td>19.026298</td>\n",
       "      <td>0.216706</td>\n",
       "    </tr>\n",
       "  </tbody>\n",
       "</table>\n",
       "<p>34812 rows × 3 columns</p>\n",
       "</div>"
      ],
      "text/plain": [
       "           Dist1      Dist2     Data3\n",
       "0      19.198039  34.132096  0.281231\n",
       "1      20.049876  35.057096  0.285960\n",
       "2      19.198039  35.057096  0.273811\n",
       "3      19.253424  34.058773  0.282650\n",
       "4      19.105261  34.058773  0.280475\n",
       "...          ...        ...       ...\n",
       "34807  43.117739  94.339811  0.228524\n",
       "34808   8.000000  19.026298  0.210235\n",
       "34809  24.534842  65.122961  0.188373\n",
       "34810   6.324555  16.278821  0.194257\n",
       "34811   8.246211  19.026298  0.216706\n",
       "\n",
       "[34812 rows x 3 columns]"
      ]
     },
     "execution_count": 19,
     "metadata": {},
     "output_type": "execute_result"
    }
   ],
   "source": [
    "dx"
   ]
  },
  {
   "cell_type": "code",
   "execution_count": 20,
   "id": "54c47881",
   "metadata": {},
   "outputs": [
    {
     "data": {
      "text/plain": [
       "0        2\n",
       "1        2\n",
       "2        2\n",
       "3        2\n",
       "4        2\n",
       "        ..\n",
       "34807    1\n",
       "34808    1\n",
       "34809    1\n",
       "34810    1\n",
       "34811    1\n",
       "Name: op, Length: 34812, dtype: int64"
      ]
     },
     "execution_count": 20,
     "metadata": {},
     "output_type": "execute_result"
    }
   ],
   "source": [
    "dy"
   ]
  },
  {
   "cell_type": "markdown",
   "id": "518435ec",
   "metadata": {},
   "source": [
    "# Standardising the Data"
   ]
  },
  {
   "cell_type": "code",
   "execution_count": 21,
   "id": "26003003",
   "metadata": {},
   "outputs": [
    {
     "name": "stdout",
     "output_type": "stream",
     "text": [
      "          0         1         2\n",
      "0  1.409980  0.091367  0.756550\n",
      "1  1.550844  0.134710  0.804346\n",
      "2  1.409980  0.134710  0.681550\n",
      "3  1.419139  0.087931  0.770888\n",
      "4  1.394638  0.087931  0.748903\n"
     ]
    }
   ],
   "source": [
    "std1 = StandardScaler()\n",
    "dx1= std1.fit_transform(dx)\n",
    "dx1 = pd.DataFrame(dx1)\n",
    "print(dx1.head())"
   ]
  },
  {
   "cell_type": "markdown",
   "id": "c95dcf55",
   "metadata": {},
   "source": [
    "# Model Training"
   ]
  },
  {
   "cell_type": "code",
   "execution_count": 22,
   "id": "cbca6f70",
   "metadata": {},
   "outputs": [],
   "source": [
    "from sklearn.linear_model import LogisticRegression\n",
    "from sklearn.metrics import classification_report,accuracy_score,confusion_matrix"
   ]
  },
  {
   "cell_type": "code",
   "execution_count": 27,
   "id": "99cd711c",
   "metadata": {},
   "outputs": [],
   "source": [
    "from sklearn.model_selection import train_test_split as tts\n",
    "x_train,x_test,y_train,y_test = tts(dx1,dy,test_size = 0.3,random_state = 42)"
   ]
  },
  {
   "cell_type": "code",
   "execution_count": 28,
   "id": "5beabea5",
   "metadata": {},
   "outputs": [
    {
     "name": "stdout",
     "output_type": "stream",
     "text": [
      "Accuracy score - 0.9939678284182306 \n",
      "Confusion matrix -\n",
      " [[3431   57    0]\n",
      " [   0 3475    0]\n",
      " [   0    6 3475]] \n",
      "Cllasification report - \n",
      "               precision    recall  f1-score   support\n",
      "\n",
      "           0       1.00      0.98      0.99      3488\n",
      "           1       0.98      1.00      0.99      3475\n",
      "           2       1.00      1.00      1.00      3481\n",
      "\n",
      "    accuracy                           0.99     10444\n",
      "   macro avg       0.99      0.99      0.99     10444\n",
      "weighted avg       0.99      0.99      0.99     10444\n",
      " \n",
      "Score(test) - 0.9939678284182306 \n",
      "Score(train) - 0.9938443860801051 \n"
     ]
    }
   ],
   "source": [
    "lr1 = LogisticRegression()\n",
    "lr1.fit(x_train,y_train)\n",
    "ypred = lr1.predict(x_test)\n",
    "print(\"Accuracy score - {} \".format(accuracy_score(y_test,ypred)))\n",
    "print(\"Confusion matrix -\\n {} \".format(confusion_matrix(y_test,ypred)))\n",
    "print(\"Cllasification report - \\n {} \".format(classification_report(y_test,ypred)))\n",
    "print(\"Score(test) - {} \".format(lr1.score(x_test,y_test)))\n",
    "print(\"Score(train) - {} \".format(lr1.score(x_train,y_train)))"
   ]
  },
  {
   "cell_type": "markdown",
   "id": "54cdca27",
   "metadata": {},
   "source": [
    "# Saving Model using pickle"
   ]
  },
  {
   "cell_type": "code",
   "execution_count": 29,
   "id": "0d5c941e",
   "metadata": {},
   "outputs": [],
   "source": [
    "import pickle as pkl"
   ]
  },
  {
   "cell_type": "code",
   "execution_count": 30,
   "id": "d563381e",
   "metadata": {},
   "outputs": [],
   "source": [
    "pkl.dump(lr1,open(\"right_eye_model\",'wb'))\n",
    "pkl.dump(std1,open(\"right_eye_scaling_datamodel\",'wb'))"
   ]
  },
  {
   "cell_type": "markdown",
   "id": "05075e23",
   "metadata": {},
   "source": [
    "# Testing if the model works"
   ]
  },
  {
   "cell_type": "code",
   "execution_count": 31,
   "id": "67dd4500",
   "metadata": {},
   "outputs": [],
   "source": [
    "model = pkl.load(open('right_eye_model','rb'))"
   ]
  },
  {
   "cell_type": "code",
   "execution_count": 34,
   "id": "0b2c7080",
   "metadata": {},
   "outputs": [
    {
     "name": "stdout",
     "output_type": "stream",
     "text": [
      "[0]\n"
     ]
    }
   ],
   "source": [
    "result = model.predict([x_test.iloc[6,:]])\n",
    "print(result)"
   ]
  },
  {
   "cell_type": "code",
   "execution_count": 35,
   "id": "edc7eeeb",
   "metadata": {},
   "outputs": [
    {
     "data": {
      "text/plain": [
       "0"
      ]
     },
     "execution_count": 35,
     "metadata": {},
     "output_type": "execute_result"
    }
   ],
   "source": [
    "y_test.iloc[6]"
   ]
  },
  {
   "cell_type": "code",
   "execution_count": null,
   "id": "8cdc78e5",
   "metadata": {},
   "outputs": [],
   "source": []
  }
 ],
 "metadata": {
  "kernelspec": {
   "display_name": "Python 3",
   "language": "python",
   "name": "python3"
  },
  "language_info": {
   "codemirror_mode": {
    "name": "ipython",
    "version": 3
   },
   "file_extension": ".py",
   "mimetype": "text/x-python",
   "name": "python",
   "nbconvert_exporter": "python",
   "pygments_lexer": "ipython3",
   "version": "3.8.8"
  }
 },
 "nbformat": 4,
 "nbformat_minor": 5
}
