{
 "cells": [
  {
   "cell_type": "code",
   "execution_count": 5,
   "id": "4321b42b",
   "metadata": {},
   "outputs": [],
   "source": [
    "import pandas as pd\n",
    "from sklearn.preprocessing import StandardScaler\n",
    "import seaborn as sns\n",
    "from imblearn.over_sampling import RandomOverSampler as ros \n",
    "from collections import Counter"
   ]
  },
  {
   "cell_type": "code",
   "execution_count": 6,
   "id": "50d50659",
   "metadata": {},
   "outputs": [],
   "source": [
    "data = pd.read_excel('left.xlsx')"
   ]
  },
  {
   "cell_type": "code",
   "execution_count": 7,
   "id": "c3a50103",
   "metadata": {},
   "outputs": [
    {
     "data": {
      "text/html": [
       "<div>\n",
       "<style scoped>\n",
       "    .dataframe tbody tr th:only-of-type {\n",
       "        vertical-align: middle;\n",
       "    }\n",
       "\n",
       "    .dataframe tbody tr th {\n",
       "        vertical-align: top;\n",
       "    }\n",
       "\n",
       "    .dataframe thead th {\n",
       "        text-align: right;\n",
       "    }\n",
       "</style>\n",
       "<table border=\"1\" class=\"dataframe\">\n",
       "  <thead>\n",
       "    <tr style=\"text-align: right;\">\n",
       "      <th></th>\n",
       "      <th>19.105261</th>\n",
       "      <th>34.058773</th>\n",
       "      <th>0.279291</th>\n",
       "      <th>2.000000</th>\n",
       "    </tr>\n",
       "  </thead>\n",
       "  <tbody>\n",
       "    <tr>\n",
       "      <th>0</th>\n",
       "      <td>21.095237</td>\n",
       "      <td>35.057096</td>\n",
       "      <td>0.300713</td>\n",
       "      <td>2</td>\n",
       "    </tr>\n",
       "    <tr>\n",
       "      <th>1</th>\n",
       "      <td>23.210886</td>\n",
       "      <td>35.057096</td>\n",
       "      <td>0.300158</td>\n",
       "      <td>2</td>\n",
       "    </tr>\n",
       "    <tr>\n",
       "      <th>2</th>\n",
       "      <td>10.000000</td>\n",
       "      <td>15.000000</td>\n",
       "      <td>0.311891</td>\n",
       "      <td>2</td>\n",
       "    </tr>\n",
       "    <tr>\n",
       "      <th>3</th>\n",
       "      <td>10.000000</td>\n",
       "      <td>16.000000</td>\n",
       "      <td>0.283791</td>\n",
       "      <td>2</td>\n",
       "    </tr>\n",
       "    <tr>\n",
       "      <th>4</th>\n",
       "      <td>11.099020</td>\n",
       "      <td>17.029386</td>\n",
       "      <td>0.306420</td>\n",
       "      <td>2</td>\n",
       "    </tr>\n",
       "    <tr>\n",
       "      <th>...</th>\n",
       "      <td>...</td>\n",
       "      <td>...</td>\n",
       "      <td>...</td>\n",
       "      <td>...</td>\n",
       "    </tr>\n",
       "    <tr>\n",
       "      <th>12976</th>\n",
       "      <td>22.045361</td>\n",
       "      <td>33.000000</td>\n",
       "      <td>0.309023</td>\n",
       "      <td>2</td>\n",
       "    </tr>\n",
       "    <tr>\n",
       "      <th>12977</th>\n",
       "      <td>22.045361</td>\n",
       "      <td>34.000000</td>\n",
       "      <td>0.328683</td>\n",
       "      <td>2</td>\n",
       "    </tr>\n",
       "    <tr>\n",
       "      <th>12978</th>\n",
       "      <td>22.045361</td>\n",
       "      <td>34.014703</td>\n",
       "      <td>0.315068</td>\n",
       "      <td>2</td>\n",
       "    </tr>\n",
       "    <tr>\n",
       "      <th>12979</th>\n",
       "      <td>23.041595</td>\n",
       "      <td>34.014703</td>\n",
       "      <td>0.316993</td>\n",
       "      <td>2</td>\n",
       "    </tr>\n",
       "    <tr>\n",
       "      <th>12980</th>\n",
       "      <td>21.045361</td>\n",
       "      <td>32.000000</td>\n",
       "      <td>0.318285</td>\n",
       "      <td>2</td>\n",
       "    </tr>\n",
       "  </tbody>\n",
       "</table>\n",
       "<p>12981 rows × 4 columns</p>\n",
       "</div>"
      ],
      "text/plain": [
       "       19.105261  34.058773  0.279291   2.000000 \n",
       "0      21.095237  35.057096   0.300713          2\n",
       "1      23.210886  35.057096   0.300158          2\n",
       "2      10.000000  15.000000   0.311891          2\n",
       "3      10.000000  16.000000   0.283791          2\n",
       "4      11.099020  17.029386   0.306420          2\n",
       "...          ...        ...        ...        ...\n",
       "12976  22.045361  33.000000   0.309023          2\n",
       "12977  22.045361  34.000000   0.328683          2\n",
       "12978  22.045361  34.014703   0.315068          2\n",
       "12979  23.041595  34.014703   0.316993          2\n",
       "12980  21.045361  32.000000   0.318285          2\n",
       "\n",
       "[12981 rows x 4 columns]"
      ]
     },
     "execution_count": 7,
     "metadata": {},
     "output_type": "execute_result"
    }
   ],
   "source": [
    "data"
   ]
  },
  {
   "cell_type": "code",
   "execution_count": 8,
   "id": "24ce168b",
   "metadata": {},
   "outputs": [],
   "source": [
    "data.columns = [\"Dist1\", \"Dist2\",\"Dist3\" , \"op\"]"
   ]
  },
  {
   "cell_type": "code",
   "execution_count": 9,
   "id": "265780a9",
   "metadata": {},
   "outputs": [
    {
     "data": {
      "text/html": [
       "<div>\n",
       "<style scoped>\n",
       "    .dataframe tbody tr th:only-of-type {\n",
       "        vertical-align: middle;\n",
       "    }\n",
       "\n",
       "    .dataframe tbody tr th {\n",
       "        vertical-align: top;\n",
       "    }\n",
       "\n",
       "    .dataframe thead th {\n",
       "        text-align: right;\n",
       "    }\n",
       "</style>\n",
       "<table border=\"1\" class=\"dataframe\">\n",
       "  <thead>\n",
       "    <tr style=\"text-align: right;\">\n",
       "      <th></th>\n",
       "      <th>Dist1</th>\n",
       "      <th>Dist2</th>\n",
       "      <th>Dist3</th>\n",
       "      <th>op</th>\n",
       "    </tr>\n",
       "  </thead>\n",
       "  <tbody>\n",
       "    <tr>\n",
       "      <th>0</th>\n",
       "      <td>21.095237</td>\n",
       "      <td>35.057096</td>\n",
       "      <td>0.300713</td>\n",
       "      <td>2</td>\n",
       "    </tr>\n",
       "    <tr>\n",
       "      <th>1</th>\n",
       "      <td>23.210886</td>\n",
       "      <td>35.057096</td>\n",
       "      <td>0.300158</td>\n",
       "      <td>2</td>\n",
       "    </tr>\n",
       "    <tr>\n",
       "      <th>2</th>\n",
       "      <td>10.000000</td>\n",
       "      <td>15.000000</td>\n",
       "      <td>0.311891</td>\n",
       "      <td>2</td>\n",
       "    </tr>\n",
       "    <tr>\n",
       "      <th>3</th>\n",
       "      <td>10.000000</td>\n",
       "      <td>16.000000</td>\n",
       "      <td>0.283791</td>\n",
       "      <td>2</td>\n",
       "    </tr>\n",
       "    <tr>\n",
       "      <th>4</th>\n",
       "      <td>11.099020</td>\n",
       "      <td>17.029386</td>\n",
       "      <td>0.306420</td>\n",
       "      <td>2</td>\n",
       "    </tr>\n",
       "    <tr>\n",
       "      <th>...</th>\n",
       "      <td>...</td>\n",
       "      <td>...</td>\n",
       "      <td>...</td>\n",
       "      <td>...</td>\n",
       "    </tr>\n",
       "    <tr>\n",
       "      <th>12976</th>\n",
       "      <td>22.045361</td>\n",
       "      <td>33.000000</td>\n",
       "      <td>0.309023</td>\n",
       "      <td>2</td>\n",
       "    </tr>\n",
       "    <tr>\n",
       "      <th>12977</th>\n",
       "      <td>22.045361</td>\n",
       "      <td>34.000000</td>\n",
       "      <td>0.328683</td>\n",
       "      <td>2</td>\n",
       "    </tr>\n",
       "    <tr>\n",
       "      <th>12978</th>\n",
       "      <td>22.045361</td>\n",
       "      <td>34.014703</td>\n",
       "      <td>0.315068</td>\n",
       "      <td>2</td>\n",
       "    </tr>\n",
       "    <tr>\n",
       "      <th>12979</th>\n",
       "      <td>23.041595</td>\n",
       "      <td>34.014703</td>\n",
       "      <td>0.316993</td>\n",
       "      <td>2</td>\n",
       "    </tr>\n",
       "    <tr>\n",
       "      <th>12980</th>\n",
       "      <td>21.045361</td>\n",
       "      <td>32.000000</td>\n",
       "      <td>0.318285</td>\n",
       "      <td>2</td>\n",
       "    </tr>\n",
       "  </tbody>\n",
       "</table>\n",
       "<p>12981 rows × 4 columns</p>\n",
       "</div>"
      ],
      "text/plain": [
       "           Dist1      Dist2     Dist3  op\n",
       "0      21.095237  35.057096  0.300713   2\n",
       "1      23.210886  35.057096  0.300158   2\n",
       "2      10.000000  15.000000  0.311891   2\n",
       "3      10.000000  16.000000  0.283791   2\n",
       "4      11.099020  17.029386  0.306420   2\n",
       "...          ...        ...       ...  ..\n",
       "12976  22.045361  33.000000  0.309023   2\n",
       "12977  22.045361  34.000000  0.328683   2\n",
       "12978  22.045361  34.014703  0.315068   2\n",
       "12979  23.041595  34.014703  0.316993   2\n",
       "12980  21.045361  32.000000  0.318285   2\n",
       "\n",
       "[12981 rows x 4 columns]"
      ]
     },
     "execution_count": 9,
     "metadata": {},
     "output_type": "execute_result"
    }
   ],
   "source": [
    "data"
   ]
  },
  {
   "cell_type": "code",
   "execution_count": 11,
   "id": "e74292d9",
   "metadata": {},
   "outputs": [
    {
     "data": {
      "text/plain": [
       "Dist1    0\n",
       "Dist2    0\n",
       "Dist3    0\n",
       "op       0\n",
       "dtype: int64"
      ]
     },
     "execution_count": 11,
     "metadata": {},
     "output_type": "execute_result"
    }
   ],
   "source": [
    "data.isnull().sum()"
   ]
  },
  {
   "cell_type": "code",
   "execution_count": 12,
   "id": "3f0f7dc6",
   "metadata": {
    "scrolled": true
   },
   "outputs": [
    {
     "data": {
      "text/plain": [
       "<AxesSubplot:>"
      ]
     },
     "execution_count": 12,
     "metadata": {},
     "output_type": "execute_result"
    },
    {
     "data": {
      "image/png": "[encoded data removed]",
      "text/plain": [
       "<Figure size 432x288 with 2 Axes>"
      ]
     },
     "metadata": {
      "needs_background": "light"
     },
     "output_type": "display_data"
    }
   ],
   "source": [
    "sns.heatmap(data.corr(), annot = True)"
   ]
  },
  {
   "cell_type": "code",
   "execution_count": 13,
   "id": "39399b92",
   "metadata": {},
   "outputs": [
    {
     "data": {
      "text/plain": [
       "2    11600\n",
       "0     1200\n",
       "1      181\n",
       "Name: op, dtype: int64"
      ]
     },
     "execution_count": 13,
     "metadata": {},
     "output_type": "execute_result"
    }
   ],
   "source": [
    "data[\"op\"].value_counts()"
   ]
  },
  {
   "cell_type": "code",
   "execution_count": 14,
   "id": "35743c43",
   "metadata": {},
   "outputs": [
    {
     "name": "stdout",
     "output_type": "stream",
     "text": [
      "<bound method NDFrame.head of            Dist1      Dist2     Dist3\n",
      "0      21.095237  35.057096  0.300713\n",
      "1      23.210886  35.057096  0.300158\n",
      "2      10.000000  15.000000  0.311891\n",
      "3      10.000000  16.000000  0.283791\n",
      "4      11.099020  17.029386  0.306420\n",
      "...          ...        ...       ...\n",
      "12976  22.045361  33.000000  0.309023\n",
      "12977  22.045361  34.000000  0.328683\n",
      "12978  22.045361  34.014703  0.315068\n",
      "12979  23.041595  34.014703  0.316993\n",
      "12980  21.045361  32.000000  0.318285\n",
      "\n",
      "[12981 rows x 3 columns]>\n"
     ]
    }
   ],
   "source": [
    "X = data.iloc[:,0:3]\n",
    "print(X.head)"
   ]
  },
  {
   "cell_type": "code",
   "execution_count": 15,
   "id": "e148ee59",
   "metadata": {},
   "outputs": [],
   "source": [
    "y = data.iloc[:,3]"
   ]
  },
  {
   "cell_type": "code",
   "execution_count": 17,
   "id": "5b54ed58",
   "metadata": {},
   "outputs": [],
   "source": [
    "ros =ros(random_state=42 )\n",
    "X_res, y_res = ros.fit_resample(X, y)"
   ]
  },
  {
   "cell_type": "code",
   "execution_count": 18,
   "id": "a0f76016",
   "metadata": {
    "scrolled": true
   },
   "outputs": [
    {
     "name": "stdout",
     "output_type": "stream",
     "text": [
      "Counter({2: 11600, 0: 1200, 1: 181})\n",
      "Counter({2: 11600, 0: 11600, 1: 11600})\n"
     ]
    }
   ],
   "source": [
    "print(Counter(data[\"op\"]))\n",
    "print(Counter(y_res))"
   ]
  },
  {
   "cell_type": "code",
   "execution_count": 21,
   "id": "d73361ec",
   "metadata": {},
   "outputs": [
    {
     "data": {
      "text/html": [
       "<div>\n",
       "<style scoped>\n",
       "    .dataframe tbody tr th:only-of-type {\n",
       "        vertical-align: middle;\n",
       "    }\n",
       "\n",
       "    .dataframe tbody tr th {\n",
       "        vertical-align: top;\n",
       "    }\n",
       "\n",
       "    .dataframe thead th {\n",
       "        text-align: right;\n",
       "    }\n",
       "</style>\n",
       "<table border=\"1\" class=\"dataframe\">\n",
       "  <thead>\n",
       "    <tr style=\"text-align: right;\">\n",
       "      <th></th>\n",
       "      <th>Dist1</th>\n",
       "      <th>Dist2</th>\n",
       "      <th>Dist3</th>\n",
       "    </tr>\n",
       "  </thead>\n",
       "  <tbody>\n",
       "    <tr>\n",
       "      <th>0</th>\n",
       "      <td>21.095237</td>\n",
       "      <td>35.057096</td>\n",
       "      <td>0.300713</td>\n",
       "    </tr>\n",
       "    <tr>\n",
       "      <th>1</th>\n",
       "      <td>23.210886</td>\n",
       "      <td>35.057096</td>\n",
       "      <td>0.300158</td>\n",
       "    </tr>\n",
       "    <tr>\n",
       "      <th>2</th>\n",
       "      <td>10.000000</td>\n",
       "      <td>15.000000</td>\n",
       "      <td>0.311891</td>\n",
       "    </tr>\n",
       "    <tr>\n",
       "      <th>3</th>\n",
       "      <td>10.000000</td>\n",
       "      <td>16.000000</td>\n",
       "      <td>0.283791</td>\n",
       "    </tr>\n",
       "    <tr>\n",
       "      <th>4</th>\n",
       "      <td>11.099020</td>\n",
       "      <td>17.029386</td>\n",
       "      <td>0.306420</td>\n",
       "    </tr>\n",
       "    <tr>\n",
       "      <th>...</th>\n",
       "      <td>...</td>\n",
       "      <td>...</td>\n",
       "      <td>...</td>\n",
       "    </tr>\n",
       "    <tr>\n",
       "      <th>34795</th>\n",
       "      <td>12.000000</td>\n",
       "      <td>36.055513</td>\n",
       "      <td>0.200186</td>\n",
       "    </tr>\n",
       "    <tr>\n",
       "      <th>34796</th>\n",
       "      <td>13.153830</td>\n",
       "      <td>42.296572</td>\n",
       "      <td>0.199007</td>\n",
       "    </tr>\n",
       "    <tr>\n",
       "      <th>34797</th>\n",
       "      <td>13.153830</td>\n",
       "      <td>42.296572</td>\n",
       "      <td>0.199007</td>\n",
       "    </tr>\n",
       "    <tr>\n",
       "      <th>34798</th>\n",
       "      <td>16.124515</td>\n",
       "      <td>34.000000</td>\n",
       "      <td>0.216137</td>\n",
       "    </tr>\n",
       "    <tr>\n",
       "      <th>34799</th>\n",
       "      <td>13.153830</td>\n",
       "      <td>36.013886</td>\n",
       "      <td>0.198698</td>\n",
       "    </tr>\n",
       "  </tbody>\n",
       "</table>\n",
       "<p>34800 rows × 3 columns</p>\n",
       "</div>"
      ],
      "text/plain": [
       "           Dist1      Dist2     Dist3\n",
       "0      21.095237  35.057096  0.300713\n",
       "1      23.210886  35.057096  0.300158\n",
       "2      10.000000  15.000000  0.311891\n",
       "3      10.000000  16.000000  0.283791\n",
       "4      11.099020  17.029386  0.306420\n",
       "...          ...        ...       ...\n",
       "34795  12.000000  36.055513  0.200186\n",
       "34796  13.153830  42.296572  0.199007\n",
       "34797  13.153830  42.296572  0.199007\n",
       "34798  16.124515  34.000000  0.216137\n",
       "34799  13.153830  36.013886  0.198698\n",
       "\n",
       "[34800 rows x 3 columns]"
      ]
     },
     "execution_count": 21,
     "metadata": {},
     "output_type": "execute_result"
    }
   ],
   "source": [
    "X_res"
   ]
  },
  {
   "cell_type": "code",
   "execution_count": 23,
   "id": "feb46039",
   "metadata": {},
   "outputs": [
    {
     "data": {
      "text/plain": [
       "34795    1\n",
       "34796    1\n",
       "34797    1\n",
       "34798    1\n",
       "34799    1\n",
       "Name: op, dtype: int64"
      ]
     },
     "execution_count": 23,
     "metadata": {},
     "output_type": "execute_result"
    }
   ],
   "source": [
    "y_res.tail()"
   ]
  },
  {
   "cell_type": "markdown",
   "id": "217ca2de",
   "metadata": {},
   "source": [
    "# converting data back for model training"
   ]
  },
  {
   "cell_type": "code",
   "execution_count": 24,
   "id": "67cf9006",
   "metadata": {},
   "outputs": [],
   "source": [
    "dx = pd.DataFrame(X_res)\n",
    "dy = pd.Series(y_res)"
   ]
  },
  {
   "cell_type": "code",
   "execution_count": 25,
   "id": "dc3203f8",
   "metadata": {},
   "outputs": [
    {
     "data": {
      "text/html": [
       "<div>\n",
       "<style scoped>\n",
       "    .dataframe tbody tr th:only-of-type {\n",
       "        vertical-align: middle;\n",
       "    }\n",
       "\n",
       "    .dataframe tbody tr th {\n",
       "        vertical-align: top;\n",
       "    }\n",
       "\n",
       "    .dataframe thead th {\n",
       "        text-align: right;\n",
       "    }\n",
       "</style>\n",
       "<table border=\"1\" class=\"dataframe\">\n",
       "  <thead>\n",
       "    <tr style=\"text-align: right;\">\n",
       "      <th></th>\n",
       "      <th>Dist1</th>\n",
       "      <th>Dist2</th>\n",
       "      <th>Dist3</th>\n",
       "    </tr>\n",
       "  </thead>\n",
       "  <tbody>\n",
       "    <tr>\n",
       "      <th>0</th>\n",
       "      <td>21.095237</td>\n",
       "      <td>35.057096</td>\n",
       "      <td>0.300713</td>\n",
       "    </tr>\n",
       "    <tr>\n",
       "      <th>1</th>\n",
       "      <td>23.210886</td>\n",
       "      <td>35.057096</td>\n",
       "      <td>0.300158</td>\n",
       "    </tr>\n",
       "    <tr>\n",
       "      <th>2</th>\n",
       "      <td>10.000000</td>\n",
       "      <td>15.000000</td>\n",
       "      <td>0.311891</td>\n",
       "    </tr>\n",
       "    <tr>\n",
       "      <th>3</th>\n",
       "      <td>10.000000</td>\n",
       "      <td>16.000000</td>\n",
       "      <td>0.283791</td>\n",
       "    </tr>\n",
       "    <tr>\n",
       "      <th>4</th>\n",
       "      <td>11.099020</td>\n",
       "      <td>17.029386</td>\n",
       "      <td>0.306420</td>\n",
       "    </tr>\n",
       "    <tr>\n",
       "      <th>...</th>\n",
       "      <td>...</td>\n",
       "      <td>...</td>\n",
       "      <td>...</td>\n",
       "    </tr>\n",
       "    <tr>\n",
       "      <th>34795</th>\n",
       "      <td>12.000000</td>\n",
       "      <td>36.055513</td>\n",
       "      <td>0.200186</td>\n",
       "    </tr>\n",
       "    <tr>\n",
       "      <th>34796</th>\n",
       "      <td>13.153830</td>\n",
       "      <td>42.296572</td>\n",
       "      <td>0.199007</td>\n",
       "    </tr>\n",
       "    <tr>\n",
       "      <th>34797</th>\n",
       "      <td>13.153830</td>\n",
       "      <td>42.296572</td>\n",
       "      <td>0.199007</td>\n",
       "    </tr>\n",
       "    <tr>\n",
       "      <th>34798</th>\n",
       "      <td>16.124515</td>\n",
       "      <td>34.000000</td>\n",
       "      <td>0.216137</td>\n",
       "    </tr>\n",
       "    <tr>\n",
       "      <th>34799</th>\n",
       "      <td>13.153830</td>\n",
       "      <td>36.013886</td>\n",
       "      <td>0.198698</td>\n",
       "    </tr>\n",
       "  </tbody>\n",
       "</table>\n",
       "<p>34800 rows × 3 columns</p>\n",
       "</div>"
      ],
      "text/plain": [
       "           Dist1      Dist2     Dist3\n",
       "0      21.095237  35.057096  0.300713\n",
       "1      23.210886  35.057096  0.300158\n",
       "2      10.000000  15.000000  0.311891\n",
       "3      10.000000  16.000000  0.283791\n",
       "4      11.099020  17.029386  0.306420\n",
       "...          ...        ...       ...\n",
       "34795  12.000000  36.055513  0.200186\n",
       "34796  13.153830  42.296572  0.199007\n",
       "34797  13.153830  42.296572  0.199007\n",
       "34798  16.124515  34.000000  0.216137\n",
       "34799  13.153830  36.013886  0.198698\n",
       "\n",
       "[34800 rows x 3 columns]"
      ]
     },
     "execution_count": 25,
     "metadata": {},
     "output_type": "execute_result"
    }
   ],
   "source": [
    "dx"
   ]
  },
  {
   "cell_type": "code",
   "execution_count": 26,
   "id": "2f3165bd",
   "metadata": {},
   "outputs": [
    {
     "data": {
      "text/plain": [
       "0        2\n",
       "1        2\n",
       "2        2\n",
       "3        2\n",
       "4        2\n",
       "        ..\n",
       "34795    1\n",
       "34796    1\n",
       "34797    1\n",
       "34798    1\n",
       "34799    1\n",
       "Name: op, Length: 34800, dtype: int64"
      ]
     },
     "execution_count": 26,
     "metadata": {},
     "output_type": "execute_result"
    }
   ],
   "source": [
    "dy"
   ]
  },
  {
   "cell_type": "markdown",
   "id": "24b87108",
   "metadata": {},
   "source": [
    "# Standardising the Data"
   ]
  },
  {
   "cell_type": "code",
   "execution_count": 27,
   "id": "f40909fa",
   "metadata": {},
   "outputs": [
    {
     "name": "stdout",
     "output_type": "stream",
     "text": [
      "          0         1         2\n",
      "0  1.348687  0.117957  0.961154\n",
      "1  1.621296  0.117957  0.955493\n",
      "2 -0.080976 -0.739328  1.075360\n",
      "3 -0.080976 -0.696586  0.788278\n",
      "4  0.060637 -0.652588  1.019467\n"
     ]
    }
   ],
   "source": [
    "std = StandardScaler()\n",
    "dx1= std.fit_transform(dx)\n",
    "dx1 = pd.DataFrame(dx1)\n",
    "print(dx1.head())"
   ]
  },
  {
   "cell_type": "markdown",
   "id": "cd60fe6a",
   "metadata": {},
   "source": [
    "# Model Training"
   ]
  },
  {
   "cell_type": "code",
   "execution_count": 29,
   "id": "d8a8fa5f",
   "metadata": {},
   "outputs": [],
   "source": [
    "from sklearn.linear_model import LogisticRegression\n",
    "\n",
    "from sklearn.metrics import classification_report,accuracy_score,confusion_matrix"
   ]
  },
  {
   "cell_type": "code",
   "execution_count": 30,
   "id": "933dc66a",
   "metadata": {},
   "outputs": [],
   "source": [
    "from sklearn.model_selection import train_test_split as tts\n",
    "x_train,x_test,y_train,y_test = tts(dx1,dy,test_size =0.3,random_state = 42)"
   ]
  },
  {
   "cell_type": "code",
   "execution_count": 89,
   "id": "53955e0a",
   "metadata": {},
   "outputs": [
    {
     "name": "stdout",
     "output_type": "stream",
     "text": [
      "Accuracy score - 0.9909003831417624 \n",
      "Confusion matrix -\n",
      " [[3408   63    0]\n",
      " [   0 3525   17]\n",
      " [   0   15 3412]] \n",
      "Cllasification report - \n",
      "               precision    recall  f1-score   support\n",
      "\n",
      "           0       1.00      0.98      0.99      3471\n",
      "           1       0.98      1.00      0.99      3542\n",
      "           2       1.00      1.00      1.00      3427\n",
      "\n",
      "    accuracy                           0.99     10440\n",
      "   macro avg       0.99      0.99      0.99     10440\n",
      "weighted avg       0.99      0.99      0.99     10440\n",
      " \n",
      "Score(test) - 0.9909003831417624 \n",
      "Score(train) - 0.9917077175697865 \n"
     ]
    }
   ],
   "source": [
    "lr = LogisticRegression()\n",
    "lr.fit(x_train,y_train)\n",
    "ypred = lr.predict(x_test)\n",
    "print(\"Accuracy score - {} \".format(accuracy_score(y_test,ypred)))\n",
    "print(\"Confusion matrix -\\n {} \".format(confusion_matrix(y_test,ypred)))\n",
    "print(\"Cllasification report - \\n {} \".format(classification_report(y_test,ypred)))\n",
    "print(\"Score(test) - {} \".format(lr.score(x_test,y_test)))\n",
    "print(\"Score(train) - {} \".format(lr.score(x_train,y_train)))"
   ]
  },
  {
   "cell_type": "markdown",
   "id": "05a7b341",
   "metadata": {},
   "source": [
    "# Saving Model using pickle"
   ]
  },
  {
   "cell_type": "code",
   "execution_count": 90,
   "id": "263d1d6c",
   "metadata": {},
   "outputs": [],
   "source": [
    "import pickle as pkl"
   ]
  },
  {
   "cell_type": "code",
   "execution_count": 92,
   "id": "9c76b52e",
   "metadata": {},
   "outputs": [],
   "source": [
    "pkl.dump(lr,open(\"left_eye_model\",'wb'))\n",
    "pkl.dump(std,open(\"left_eye_scaling_datamodel\",'wb'))"
   ]
  },
  {
   "cell_type": "code",
   "execution_count": null,
   "id": "3fe97ca3",
   "metadata": {},
   "outputs": [],
   "source": []
  },
  {
   "cell_type": "markdown",
   "id": "e76c0df2",
   "metadata": {},
   "source": [
    "# Testing if the model works "
   ]
  },
  {
   "cell_type": "code",
   "execution_count": 47,
   "id": "5d7fa01b",
   "metadata": {},
   "outputs": [],
   "source": [
    "lr = [12,23,0.656]"
   ]
  },
  {
   "cell_type": "code",
   "execution_count": 48,
   "id": "29aa8aca",
   "metadata": {},
   "outputs": [
    {
     "data": {
      "text/plain": [
       "array([[ 0.17673178, -0.39739007,  4.59081458]])"
      ]
     },
     "execution_count": 48,
     "metadata": {},
     "output_type": "execute_result"
    }
   ],
   "source": [
    "lr1= model1.transform([lr])\n",
    "lr1"
   ]
  },
  {
   "cell_type": "code",
   "execution_count": 49,
   "id": "b7c57362",
   "metadata": {},
   "outputs": [
    {
     "data": {
      "text/plain": [
       "array([1], dtype=int64)"
      ]
     },
     "execution_count": 49,
     "metadata": {},
     "output_type": "execute_result"
    }
   ],
   "source": [
    "ressult = model.predict([lr])"
   ]
  },
  {
   "cell_type": "code",
   "execution_count": 40,
   "id": "48a5d2f5",
   "metadata": {},
   "outputs": [],
   "source": [
    "import pickle as pkl\n",
    "model = pkl.load(open('left_eye_model','rb'))\n",
    "model1 = pkl.load(open('left_eye_scaling_datamodel','rb'))"
   ]
  },
  {
   "cell_type": "code",
   "execution_count": 37,
   "id": "1e397c73",
   "metadata": {},
   "outputs": [
    {
     "name": "stdout",
     "output_type": "stream",
     "text": [
      "[1]\n"
     ]
    }
   ],
   "source": [
    "result = model.predict([x_test.iloc[1,:]])\n",
    "print(result)"
   ]
  },
  {
   "cell_type": "code",
   "execution_count": 38,
   "id": "8684de3e",
   "metadata": {},
   "outputs": [
    {
     "data": {
      "text/plain": [
       "1"
      ]
     },
     "execution_count": 38,
     "metadata": {},
     "output_type": "execute_result"
    }
   ],
   "source": [
    "y_test.iloc[1]"
   ]
  },
  {
   "cell_type": "code",
   "execution_count": null,
   "id": "443da02d",
   "metadata": {},
   "outputs": [],
   "source": []
  }
 ],
 "metadata": {
  "kernelspec": {
   "display_name": "Python 3",
   "language": "python",
   "name": "python3"
  },
  "language_info": {
   "codemirror_mode": {
    "name": "ipython",
    "version": 3
   },
   "file_extension": ".py",
   "mimetype": "text/x-python",
   "name": "python",
   "nbconvert_exporter": "python",
   "pygments_lexer": "ipython3",
   "version": "3.8.8"
  }
 },
 "nbformat": 4,
 "nbformat_minor": 5
}
